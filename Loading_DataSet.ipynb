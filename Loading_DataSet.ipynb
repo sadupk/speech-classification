{
 "cells": [
  {
   "cell_type": "code",
   "execution_count": 87,
   "metadata": {
    "collapsed": true
   },
   "outputs": [],
   "source": [
    "import os\n",
    "import pandas as pd\n",
    "import numpy as np\n",
    "import matplotlib.pyplot as plt\n",
    "import matplotlib.ticker as ticker\n",
    "from sklearn.feature_extraction.text import CountVectorizer\n",
    "from sklearn.naive_bayes import MultinomialNB\n",
    "from sklearn.model_selection import train_test_split, cross_val_score, cross_validate, GridSearchCV\n",
    "from sklearn.metrics import confusion_matrix, classification_report, make_scorer, f1_score\n",
    "from sklearn.svm import LinearSVC\n",
    "from sklearn.ensemble import RandomForestClassifier\n",
    "from sklearn.preprocessing import LabelBinarizer\n",
    "from sklearn.pipeline import Pipeline"
   ]
  },
  {
   "cell_type": "code",
   "execution_count": 2,
   "metadata": {
    "collapsed": true
   },
   "outputs": [],
   "source": [
    "# function for reading the data files\n",
    "def build_data_frame(path):\n",
    "    rows = []\n",
    "    index = []\n",
    "    classification =[]\n",
    "    for file_name, text, classification in read_files(path):\n",
    "        rows.append({'text':text, 'class': classification})\n",
    "        index.append(file_name)\n",
    "        \n",
    "    data_frame = pd.DataFrame(rows,index=index)\n",
    "    return data_frame"
   ]
  },
  {
   "cell_type": "code",
   "execution_count": 3,
   "metadata": {
    "collapsed": true
   },
   "outputs": [],
   "source": [
    "def read_files(path):\n",
    "    newline=''\n",
    "    for root, dir_names, file_names in os.walk(path):\n",
    "        print('Root folder: {0}'.format(root))\n",
    "        print('Number of files read: {0}'.format(len(file_names)))\n",
    "        for file_name in file_names:\n",
    "            file_path = os.path.join(root,file_name)\n",
    "            if(os.path.isfile(file_path)):\n",
    "                #print(file_name)\n",
    "                if(\"D\" in file_name):\n",
    "                    label=\"D\"\n",
    "                elif(\"R\" in file_name):\n",
    "                    label=\"R\"\n",
    "                else:\n",
    "                    label=\"X\"\n",
    "                lines = []\n",
    "                f = open(file_path)\n",
    "                for line in f:\n",
    "                    lines.append(line.rstrip(\"\\n\"))\n",
    "                f.close()\n",
    "                content=newline.join(lines)\n",
    "                yield file_name, content, label"
   ]
  },
  {
   "cell_type": "code",
   "execution_count": 4,
   "metadata": {},
   "outputs": [
    {
     "name": "stdout",
     "output_type": "stream",
     "text": [
      "Root folder: /home/pk-user/Documents/IE594-Data-Science/Speech-classification/data_set\n",
      "Number of files read: 856\n"
     ]
    }
   ],
   "source": [
    "# here I set the path of data set using os.getcwd()\n",
    "path = os.path.join(os.getcwd(), 'data_set')\n",
    "# intitalize the empty data frame\n",
    "data = pd.DataFrame({'text':[],'class':[]})\n",
    "# call the function to build the data set\n",
    "data=data.append(build_data_frame(path))"
   ]
  },
  {
   "cell_type": "code",
   "execution_count": 5,
   "metadata": {
    "collapsed": true
   },
   "outputs": [],
   "source": [
    "#Parse file name, reorder columns and print to csv\n",
    "\n",
    "file_name = pd.Series(data.index.values)\n",
    "bill, speaker, meta_date, file_name= file_name.str.split('_').str\n",
    "data['bill_id'] = bill.values\n",
    "data['speaker_id'] = speaker.values\n",
    "data['meta_date'] = meta_date.values\n",
    "data = data[['meta_date', 'speaker_id', 'class', 'bill_id', 'text']]\n",
    "data.to_csv('clean_data.csv')\n",
    "\n",
    "#Split data validation / test - crappy way of doing it by assigning the train data do 'data'\n",
    "\n",
    "data, data_test = train_test_split(data, test_size = 0.2, stratify = data['class'], random_state = 42)"
   ]
  },
  {
   "cell_type": "markdown",
   "metadata": {},
   "source": [
    "### Pipeline for executing the task"
   ]
  },
  {
   "cell_type": "code",
   "execution_count": 6,
   "metadata": {},
   "outputs": [],
   "source": [
    "# Using Pipeline \n",
    "# Define scorers\n",
    "\n",
    "pipeline = Pipeline([\n",
    "    ('vectorizer', CountVectorizer()),\n",
    "    ('classifier', MultinomialNB())\n",
    "])\n",
    "\n",
    "f1_R = make_scorer(f1_score,pos_label='R')\n",
    "f1_D = make_scorer(f1_score,pos_label='D')\n",
    "f1_macro = make_scorer(f1_score, average = 'macro')"
   ]
  },
  {
   "cell_type": "markdown",
   "metadata": {},
   "source": [
    "### Pipeline with GridSearchCV with varying ngram_range and varying alpha"
   ]
  },
  {
   "cell_type": "code",
   "execution_count": 7,
   "metadata": {},
   "outputs": [
    {
     "name": "stdout",
     "output_type": "stream",
     "text": [
      "{'classifier__alpha': 0.005, 'vectorizer__ngram_range': (1, 4)}\n",
      "0.739500671196\n"
     ]
    }
   ],
   "source": [
    "param_grid = dict(classifier__alpha=[20,10,5,1, 0.5, 0.005,0.0005],vectorizer__ngram_range=[(1,3),(1,4),(2,3),(2,4)])\n",
    "grid_search = GridSearchCV(pipeline, param_grid=param_grid, scoring=f1_macro, cv=5)\n",
    "grid_search.fit(data['text'], data['class'])\n",
    "print(grid_search.best_params_)\n",
    "print(grid_search.best_score_)"
   ]
  },
  {
   "cell_type": "code",
   "execution_count": 8,
   "metadata": {
    "collapsed": true
   },
   "outputs": [],
   "source": [
    "#Create N-gram features\n",
    "count_vectorizer = CountVectorizer(ngram_range=(1, 4))\n",
    "x_train = count_vectorizer.fit_transform(data['text'])\n",
    "y_train = data['class']\n",
    "x_test = count_vectorizer.transform(data_test['text'])\n",
    "y_test = data_test['class']\n"
   ]
  },
  {
   "cell_type": "code",
   "execution_count": 19,
   "metadata": {
    "collapsed": true
   },
   "outputs": [],
   "source": [
    "results = []"
   ]
  },
  {
   "cell_type": "code",
   "execution_count": 22,
   "metadata": {},
   "outputs": [
    {
     "name": "stdout",
     "output_type": "stream",
     "text": [
      "[[ -8.6201883  -13.1038933  -18.40719821 ..., -13.1038933  -13.1038933\n",
      "  -13.1038933 ]]\n",
      "[[53 25]\n",
      " [14 80]]\n",
      "             precision    recall  f1-score   support\n",
      "\n",
      "          D       0.79      0.68      0.73        78\n",
      "          R       0.76      0.85      0.80        94\n",
      "\n",
      "avg / total       0.78      0.77      0.77       172\n",
      "\n"
     ]
    }
   ],
   "source": [
    "#Naive Bayes classifier\n",
    "classifier = MultinomialNB(alpha = 0.005)\n",
    "classifier.fit(x_train, y_train)\n",
    "\n",
    "\n",
    "print(classifier.coef_)\n",
    "\n",
    "predictions = classifier.predict(x_test)\n",
    "print(confusion_matrix(y_test, predictions))\n",
    "print(classification_report(y_test, predictions))\n",
    "\n",
    "results.append(('MN-NB',f1_score(y_test, predictions, average = 'macro')))"
   ]
  },
  {
   "cell_type": "code",
   "execution_count": 24,
   "metadata": {},
   "outputs": [
    {
     "name": "stdout",
     "output_type": "stream",
     "text": [
      "             precision    recall  f1-score   support\n",
      "\n",
      "          D       0.61      0.51      0.56        78\n",
      "          R       0.64      0.72      0.68        94\n",
      "\n",
      "avg / total       0.63      0.63      0.62       172\n",
      "\n",
      "f1 scores: [('MN-NB', 0.76752729163056665), ('SVM', 0.61777777777777776)]\n"
     ]
    }
   ],
   "source": [
    "#SVM Classifier\n",
    "classifier_svc = LinearSVC()\n",
    "classifier_svc.fit(x_train, y_train)\n",
    "predictions_svc = classifier_svc.predict(x_test)\n",
    "rep = classification_report(y_test, predictions_svc)\n",
    "print(rep)\n",
    "results.append(('SVM',f1_score(y_test, predictions_svc, average = 'macro')))\n",
    "print('f1 scores: {}'.format(results))"
   ]
  },
  {
   "cell_type": "code",
   "execution_count": 25,
   "metadata": {},
   "outputs": [
    {
     "name": "stdout",
     "output_type": "stream",
     "text": [
      "             precision    recall  f1-score   support\n",
      "\n",
      "          D       0.73      0.46      0.57        78\n",
      "          R       0.66      0.86      0.75        94\n",
      "\n",
      "avg / total       0.69      0.68      0.67       172\n",
      "\n",
      "f1 scores: [('MN-NB', 0.76752729163056665), ('SVM', 0.61777777777777776), ('Random Forest', 0.65673645633005551)]\n"
     ]
    }
   ],
   "source": [
    "#Random Forest Classifier\n",
    "classifier_rf = RandomForestClassifier(n_estimators=30,max_features=\"sqrt\",random_state=1)\n",
    "classifier_rf.fit(x_train, y_train)\n",
    "predictions_rf = classifier_rf.predict(x_test)\n",
    "print(classification_report(y_test, predictions_rf))\n",
    "results.append(('Random Forest', f1_score(y_test, predictions_rf, average = 'macro')))\n",
    "print('f1 scores: {}'.format(results))"
   ]
  },
  {
   "cell_type": "code",
   "execution_count": 27,
   "metadata": {},
   "outputs": [],
   "source": [
    "results.append(('Adaboost-Trees', 0.70))"
   ]
  },
  {
   "cell_type": "code",
   "execution_count": 98,
   "metadata": {},
   "outputs": [
    {
     "data": {
      "image/png": "[encoded data removed]",
      "text/plain": [
       "<matplotlib.figure.Figure at 0x7f0287ec3ac8>"
      ]
     },
     "metadata": {},
     "output_type": "display_data"
    }
   ],
   "source": [
    "results = sorted(results, key=lambda tup: tup[1],reverse=True)\n",
    "labels, scores = zip(*results)\n",
    "y_pos = np.arange(len(labels))\n",
    "\n",
    "fig, ax = plt.subplots()\n",
    "ax.yaxis.set_major_formatter(ticker.FormatStrFormatter('%0.2f'))\n",
    "\n",
    "plt.bar(y_pos, scores, align = 'center', alpha=0.6)\n",
    "plt.xticks(y_pos, labels)\n",
    "plt.ylabel('f1-score-average')\n",
    "plt.title('Classification Algorithm Performance')\n",
    "plt.ylim(0.6,0.8)\n",
    "plt.show()"
   ]
  },
  {
   "cell_type": "code",
   "execution_count": 77,
   "metadata": {},
   "outputs": [],
   "source": [
    "# from sklearn.decomposition import SparsePCA\n",
    "# pca = SparsePCA(n_components=2)\n",
    "# proj = pca.fit_transform(x_test.toarray())\n",
    "# plt.scatter(proj[:, 0], proj[:, 1], c=y_test) \n",
    "\n",
    "# plt.colorbar() "
   ]
  },
  {
   "cell_type": "code",
   "execution_count": 13,
   "metadata": {},
   "outputs": [],
   "source": [
    "# classifier_rf = RandomForestClassifier(max_features=\"sqrt\")\n",
    "# estimators=list(np.arange(10,500,10))\n",
    "# scores=[]\n",
    "# scoreoptimal=0\n",
    "# noptimal=10\n",
    "# for estimator in estimators:\n",
    "#     classifier_rf = RandomForestClassifier(n_estimators=estimator,max_features=\"sqrt\")\n",
    "#     classifier_rf.fit(x_train, y_train)\n",
    "#     predictions_rf = classifier_rf.predict(x_test)\n",
    "#     score=np.round((f1_score(y_test,predictions_rf,labels=[\"R\",\"D\"],pos_label=\"R\")\n",
    "#                     +f1_score(y_test,predictions_rf,labels=[\"R\",\"D\"],pos_label=\"D\"))/2,decimals=2)\n",
    "#     scores.append(score)\n",
    "#     if(score>scoreoptimal):\n",
    "#         noptimal=estimator\n",
    "#         scoreoptimal=score"
   ]
  },
  {
   "cell_type": "code",
   "execution_count": 14,
   "metadata": {
    "collapsed": true
   },
   "outputs": [],
   "source": [
    "# import matplotlib.pyplot as plt\n",
    "# plt.plot(estimators,scores)\n",
    "# plt.scatter(noptimal,scoreoptimal,c=\"red\",s=50)\n",
    "# plt.title(\"No of trees in model vs F1 Score\")\n",
    "# plt.xlabel(\"No of trees\")\n",
    "# plt.ylabel(\"F1 Score\")\n",
    "# plt.show()\n",
    "# scoreoptimal\n",
    "# noptimal"
   ]
  }
 ],
 "metadata": {
  "kernelspec": {
   "display_name": "Python 3",
   "language": "python",
   "name": "python3"
  },
  "language_info": {
   "codemirror_mode": {
    "name": "ipython",
    "version": 3
   },
   "file_extension": ".py",
   "mimetype": "text/x-python",
   "name": "python",
   "nbconvert_exporter": "python",
   "pygments_lexer": "ipython3",
   "version": "3.6.1"
  }
 },
 "nbformat": 4,
 "nbformat_minor": 2
}
