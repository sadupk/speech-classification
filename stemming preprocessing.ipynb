{
 "cells": [
  {
   "cell_type": "code",
   "execution_count": 1,
   "metadata": {
    "collapsed": true
   },
   "outputs": [],
   "source": [
    "import os\n",
    "import pandas as pd\n",
    "import numpy as np\n",
    "from sklearn.feature_extraction.text import CountVectorizer\n",
    "from sklearn.naive_bayes import MultinomialNB\n",
    "from sklearn.model_selection import train_test_split\n",
    "from sklearn.metrics import confusion_matrix, classification_report\n",
    "from nltk.stem import SnowballStemmer"
   ]
  },
  {
   "cell_type": "code",
   "execution_count": 2,
   "metadata": {
    "collapsed": true
   },
   "outputs": [],
   "source": [
    "# function for reading the data files\n",
    "def build_data_frame(path):\n",
    "    rows = []\n",
    "    index = []\n",
    "    classification =[]\n",
    "    for file_name, text, classification in read_files(path):\n",
    "        rows.append({'text':text, 'class': classification})\n",
    "        index.append(file_name)\n",
    "        \n",
    "    data_frame = pd.DataFrame(rows,index=index)\n",
    "    return data_frame"
   ]
  },
  {
   "cell_type": "code",
   "execution_count": 3,
   "metadata": {
    "collapsed": true
   },
   "outputs": [],
   "source": [
    "def read_files(path):\n",
    "    newline=''\n",
    "    for root, dir_names, file_names in os.walk(path):\n",
    "        print('Root folder: {0}'.format(root))\n",
    "        print('Number of files read: {0}'.format(len(file_names)))\n",
    "        for file_name in file_names:\n",
    "            file_path = os.path.join(root,file_name)\n",
    "            if(os.path.isfile(file_path)):\n",
    "                #print(file_name)\n",
    "                if(\"D\" in file_name):\n",
    "                    label=\"D\"\n",
    "                elif(\"R\" in file_name):\n",
    "                    label=\"R\"\n",
    "                else:\n",
    "                    label=\"X\"\n",
    "                lines = []\n",
    "                f = open(file_path)\n",
    "                for line in f:\n",
    "                    lines.append(line.rstrip(\"\\n\"))\n",
    "                f.close()\n",
    "                content=newline.join(lines)\n",
    "                yield file_name, content, label"
   ]
  },
  {
   "cell_type": "code",
   "execution_count": 4,
   "metadata": {},
   "outputs": [
    {
     "name": "stdout",
     "output_type": "stream",
     "text": [
      "Root folder: C:\\Users\\abhis\\AnacondaProjects\\Speech-classification\\data_set\n",
      "Number of files read: 856\n"
     ]
    }
   ],
   "source": [
    "# here I set the path of data set using os.getcwd()\n",
    "path = os.path.join(os.getcwd(), 'data_set')\n",
    "# intitalize the empty data frame\n",
    "data = pd.DataFrame({'text':[],'class':[]})\n",
    "# call the function to build the data set\n",
    "data=data.append(build_data_frame(path))"
   ]
  },
  {
   "cell_type": "markdown",
   "metadata": {},
   "source": [
    "### Stemming using SnowballStemmer"
   ]
  },
  {
   "cell_type": "code",
   "execution_count": 50,
   "metadata": {},
   "outputs": [],
   "source": [
    "rows =[]\n",
    "index=[]\n",
    "for i in range(len(data)):\n",
    "    stemtext =SnowballStemmer('english').stem(data['text'][i])\n",
    "    rows.append({'stemedtext':stemtext,'class':data['class'][i]})\n",
    "    index.append(data.index[i])\n",
    "\n",
    "datastemmed=pd.DataFrame(rows, index=index)\n"
   ]
  },
  {
   "cell_type": "markdown",
   "metadata": {},
   "source": [
    "### checking the head and tail to ensure there is no problem with stemming of data"
   ]
  },
  {
   "cell_type": "code",
   "execution_count": 51,
   "metadata": {},
   "outputs": [
    {
     "data": {
      "text/html": [
       "<div>\n",
       "<style>\n",
       "    .dataframe thead tr:only-child th {\n",
       "        text-align: right;\n",
       "    }\n",
       "\n",
       "    .dataframe thead th {\n",
       "        text-align: left;\n",
       "    }\n",
       "\n",
       "    .dataframe tbody tr th {\n",
       "        vertical-align: top;\n",
       "    }\n",
       "</style>\n",
       "<table border=\"1\" class=\"dataframe\">\n",
       "  <thead>\n",
       "    <tr style=\"text-align: right;\">\n",
       "      <th></th>\n",
       "      <th>class</th>\n",
       "      <th>stemedtext</th>\n",
       "    </tr>\n",
       "  </thead>\n",
       "  <tbody>\n",
       "    <tr>\n",
       "      <th>048_400027_0297016_RMY.txt</th>\n",
       "      <td>R</td>\n",
       "      <td>mr. chairman , i rise today in support of h.r....</td>\n",
       "    </tr>\n",
       "    <tr>\n",
       "      <th>048_400029_0294001_ROY.txt</th>\n",
       "      <td>R</td>\n",
       "      <td>mr. speaker , by direction of the committee on...</td>\n",
       "    </tr>\n",
       "    <tr>\n",
       "      <th>048_400029_0294013_ROY.txt</th>\n",
       "      <td>R</td>\n",
       "      <td>mr. speaker , i reserve the balance of my time...</td>\n",
       "    </tr>\n",
       "    <tr>\n",
       "      <th>048_400029_0294015_ROY.txt</th>\n",
       "      <td>R</td>\n",
       "      <td>mr. speaker , i yield myself such time as i ma...</td>\n",
       "    </tr>\n",
       "    <tr>\n",
       "      <th>048_400029_0294019_ROY.txt</th>\n",
       "      <td>R</td>\n",
       "      <td>mr. speaker , i yield back the balance of my t...</td>\n",
       "    </tr>\n",
       "  </tbody>\n",
       "</table>\n",
       "</div>"
      ],
      "text/plain": [
       "                           class  \\\n",
       "048_400027_0297016_RMY.txt     R   \n",
       "048_400029_0294001_ROY.txt     R   \n",
       "048_400029_0294013_ROY.txt     R   \n",
       "048_400029_0294015_ROY.txt     R   \n",
       "048_400029_0294019_ROY.txt     R   \n",
       "\n",
       "                                                                   stemedtext  \n",
       "048_400027_0297016_RMY.txt  mr. chairman , i rise today in support of h.r....  \n",
       "048_400029_0294001_ROY.txt  mr. speaker , by direction of the committee on...  \n",
       "048_400029_0294013_ROY.txt  mr. speaker , i reserve the balance of my time...  \n",
       "048_400029_0294015_ROY.txt  mr. speaker , i yield myself such time as i ma...  \n",
       "048_400029_0294019_ROY.txt  mr. speaker , i yield back the balance of my t...  "
      ]
     },
     "execution_count": 51,
     "metadata": {},
     "output_type": "execute_result"
    }
   ],
   "source": [
    "datastemmed.head()"
   ]
  },
  {
   "cell_type": "code",
   "execution_count": 49,
   "metadata": {},
   "outputs": [
    {
     "data": {
      "text/html": [
       "<div>\n",
       "<style>\n",
       "    .dataframe thead tr:only-child th {\n",
       "        text-align: right;\n",
       "    }\n",
       "\n",
       "    .dataframe thead th {\n",
       "        text-align: left;\n",
       "    }\n",
       "\n",
       "    .dataframe tbody tr th {\n",
       "        vertical-align: top;\n",
       "    }\n",
       "</style>\n",
       "<table border=\"1\" class=\"dataframe\">\n",
       "  <thead>\n",
       "    <tr style=\"text-align: right;\">\n",
       "      <th></th>\n",
       "      <th>class</th>\n",
       "      <th>text</th>\n",
       "    </tr>\n",
       "  </thead>\n",
       "  <tbody>\n",
       "    <tr>\n",
       "      <th>048_400027_0297016_RMY.txt</th>\n",
       "      <td>R</td>\n",
       "      <td>mr. chairman , i rise today in support of h.r....</td>\n",
       "    </tr>\n",
       "    <tr>\n",
       "      <th>048_400029_0294001_ROY.txt</th>\n",
       "      <td>R</td>\n",
       "      <td>mr. speaker , by direction of the committee on...</td>\n",
       "    </tr>\n",
       "    <tr>\n",
       "      <th>048_400029_0294013_ROY.txt</th>\n",
       "      <td>R</td>\n",
       "      <td>mr. speaker , i reserve the balance of my time...</td>\n",
       "    </tr>\n",
       "    <tr>\n",
       "      <th>048_400029_0294015_ROY.txt</th>\n",
       "      <td>R</td>\n",
       "      <td>mr. speaker , i yield myself such time as i ma...</td>\n",
       "    </tr>\n",
       "    <tr>\n",
       "      <th>048_400029_0294019_ROY.txt</th>\n",
       "      <td>R</td>\n",
       "      <td>mr. speaker , i yield back the balance of my t...</td>\n",
       "    </tr>\n",
       "  </tbody>\n",
       "</table>\n",
       "</div>"
      ],
      "text/plain": [
       "                           class  \\\n",
       "048_400027_0297016_RMY.txt     R   \n",
       "048_400029_0294001_ROY.txt     R   \n",
       "048_400029_0294013_ROY.txt     R   \n",
       "048_400029_0294015_ROY.txt     R   \n",
       "048_400029_0294019_ROY.txt     R   \n",
       "\n",
       "                                                                         text  \n",
       "048_400027_0297016_RMY.txt  mr. chairman , i rise today in support of h.r....  \n",
       "048_400029_0294001_ROY.txt  mr. speaker , by direction of the committee on...  \n",
       "048_400029_0294013_ROY.txt  mr. speaker , i reserve the balance of my time...  \n",
       "048_400029_0294015_ROY.txt  mr. speaker , i yield myself such time as i ma...  \n",
       "048_400029_0294019_ROY.txt  mr. speaker , i yield back the balance of my t...  "
      ]
     },
     "execution_count": 49,
     "metadata": {},
     "output_type": "execute_result"
    }
   ],
   "source": [
    "data.head()"
   ]
  },
  {
   "cell_type": "code",
   "execution_count": 52,
   "metadata": {},
   "outputs": [
    {
     "data": {
      "text/html": [
       "<div>\n",
       "<style>\n",
       "    .dataframe thead tr:only-child th {\n",
       "        text-align: right;\n",
       "    }\n",
       "\n",
       "    .dataframe thead th {\n",
       "        text-align: left;\n",
       "    }\n",
       "\n",
       "    .dataframe tbody tr th {\n",
       "        vertical-align: top;\n",
       "    }\n",
       "</style>\n",
       "<table border=\"1\" class=\"dataframe\">\n",
       "  <thead>\n",
       "    <tr style=\"text-align: right;\">\n",
       "      <th></th>\n",
       "      <th>class</th>\n",
       "      <th>stemedtext</th>\n",
       "    </tr>\n",
       "  </thead>\n",
       "  <tbody>\n",
       "    <tr>\n",
       "      <th>599_400328_2990021_ROY.txt</th>\n",
       "      <td>R</td>\n",
       "      <td>mr. speaker , i yield myself such time as i ma...</td>\n",
       "    </tr>\n",
       "    <tr>\n",
       "      <th>599_400328_2990023_ROY.txt</th>\n",
       "      <td>R</td>\n",
       "      <td>mr. speaker , i yield myself such time as i ma...</td>\n",
       "    </tr>\n",
       "    <tr>\n",
       "      <th>599_400328_2990027_ROY.txt</th>\n",
       "      <td>R</td>\n",
       "      <td>mr. speaker , reclaiming my time , the gentlem...</td>\n",
       "    </tr>\n",
       "    <tr>\n",
       "      <th>599_400328_2990029_ROY.txt</th>\n",
       "      <td>R</td>\n",
       "      <td>mr. speaker , i yield back the balance of my t...</td>\n",
       "    </tr>\n",
       "    <tr>\n",
       "      <th>599_400328_2990030_ROY.txt</th>\n",
       "      <td>R</td>\n",
       "      <td>mr. speaker , on that i demand the yeas and na...</td>\n",
       "    </tr>\n",
       "  </tbody>\n",
       "</table>\n",
       "</div>"
      ],
      "text/plain": [
       "                           class  \\\n",
       "599_400328_2990021_ROY.txt     R   \n",
       "599_400328_2990023_ROY.txt     R   \n",
       "599_400328_2990027_ROY.txt     R   \n",
       "599_400328_2990029_ROY.txt     R   \n",
       "599_400328_2990030_ROY.txt     R   \n",
       "\n",
       "                                                                   stemedtext  \n",
       "599_400328_2990021_ROY.txt  mr. speaker , i yield myself such time as i ma...  \n",
       "599_400328_2990023_ROY.txt  mr. speaker , i yield myself such time as i ma...  \n",
       "599_400328_2990027_ROY.txt  mr. speaker , reclaiming my time , the gentlem...  \n",
       "599_400328_2990029_ROY.txt  mr. speaker , i yield back the balance of my t...  \n",
       "599_400328_2990030_ROY.txt  mr. speaker , on that i demand the yeas and na...  "
      ]
     },
     "execution_count": 52,
     "metadata": {},
     "output_type": "execute_result"
    }
   ],
   "source": [
    "datastemmed.tail()"
   ]
  },
  {
   "cell_type": "code",
   "execution_count": 48,
   "metadata": {},
   "outputs": [
    {
     "data": {
      "text/html": [
       "<div>\n",
       "<style>\n",
       "    .dataframe thead tr:only-child th {\n",
       "        text-align: right;\n",
       "    }\n",
       "\n",
       "    .dataframe thead th {\n",
       "        text-align: left;\n",
       "    }\n",
       "\n",
       "    .dataframe tbody tr th {\n",
       "        vertical-align: top;\n",
       "    }\n",
       "</style>\n",
       "<table border=\"1\" class=\"dataframe\">\n",
       "  <thead>\n",
       "    <tr style=\"text-align: right;\">\n",
       "      <th></th>\n",
       "      <th>class</th>\n",
       "      <th>text</th>\n",
       "    </tr>\n",
       "  </thead>\n",
       "  <tbody>\n",
       "    <tr>\n",
       "      <th>599_400328_2990021_ROY.txt</th>\n",
       "      <td>R</td>\n",
       "      <td>mr. speaker , i yield myself such time as i ma...</td>\n",
       "    </tr>\n",
       "    <tr>\n",
       "      <th>599_400328_2990023_ROY.txt</th>\n",
       "      <td>R</td>\n",
       "      <td>mr. speaker , i yield myself such time as i ma...</td>\n",
       "    </tr>\n",
       "    <tr>\n",
       "      <th>599_400328_2990027_ROY.txt</th>\n",
       "      <td>R</td>\n",
       "      <td>mr. speaker , reclaiming my time , the gentlem...</td>\n",
       "    </tr>\n",
       "    <tr>\n",
       "      <th>599_400328_2990029_ROY.txt</th>\n",
       "      <td>R</td>\n",
       "      <td>mr. speaker , i yield back the balance of my t...</td>\n",
       "    </tr>\n",
       "    <tr>\n",
       "      <th>599_400328_2990030_ROY.txt</th>\n",
       "      <td>R</td>\n",
       "      <td>mr. speaker , on that i demand the yeas and na...</td>\n",
       "    </tr>\n",
       "  </tbody>\n",
       "</table>\n",
       "</div>"
      ],
      "text/plain": [
       "                           class  \\\n",
       "599_400328_2990021_ROY.txt     R   \n",
       "599_400328_2990023_ROY.txt     R   \n",
       "599_400328_2990027_ROY.txt     R   \n",
       "599_400328_2990029_ROY.txt     R   \n",
       "599_400328_2990030_ROY.txt     R   \n",
       "\n",
       "                                                                         text  \n",
       "599_400328_2990021_ROY.txt  mr. speaker , i yield myself such time as i ma...  \n",
       "599_400328_2990023_ROY.txt  mr. speaker , i yield myself such time as i ma...  \n",
       "599_400328_2990027_ROY.txt  mr. speaker , reclaiming my time , the gentlem...  \n",
       "599_400328_2990029_ROY.txt  mr. speaker , i yield back the balance of my t...  \n",
       "599_400328_2990030_ROY.txt  mr. speaker , on that i demand the yeas and na...  "
      ]
     },
     "execution_count": 48,
     "metadata": {},
     "output_type": "execute_result"
    }
   ],
   "source": [
    "data.tail()"
   ]
  },
  {
   "cell_type": "markdown",
   "metadata": {},
   "source": [
    "### Let's beging the classification part on stemmed data"
   ]
  },
  {
   "cell_type": "code",
   "execution_count": 92,
   "metadata": {
    "collapsed": true
   },
   "outputs": [],
   "source": [
    "#Split data into train and test\n",
    "train_data, test_data = train_test_split(datastemmed, test_size = 0.2, stratify = datastemmed['class'])"
   ]
  },
  {
   "cell_type": "code",
   "execution_count": 93,
   "metadata": {},
   "outputs": [
    {
     "name": "stdout",
     "output_type": "stream",
     "text": [
      "             precision    recall  f1-score   support\n",
      "\n",
      "          D       0.87      0.53      0.66        78\n",
      "          R       0.70      0.94      0.80        94\n",
      "\n",
      "avg / total       0.78      0.75      0.74       172\n",
      "\n"
     ]
    }
   ],
   "source": [
    "# using Pipeline \n",
    "from sklearn.pipeline import Pipeline\n",
    "pipeline = Pipeline([\n",
    "    ('vectorizer', CountVectorizer(ngram_range=(1,3))),\n",
    "    ('classifier', MultinomialNB())\n",
    "])\n",
    "pipeline.fit(train_data['stemedtext'],train_data['class'])\n",
    "predicitions = pipeline.predict(test_data['stemedtext'])\n",
    "print(classification_report(test_data['class'],predicitions))\n"
   ]
  },
  {
   "cell_type": "markdown",
   "metadata": {},
   "source": [
    "### classification on non stemmed data"
   ]
  },
  {
   "cell_type": "code",
   "execution_count": 94,
   "metadata": {
    "collapsed": true
   },
   "outputs": [],
   "source": [
    "#Split data into train and test\n",
    "train_data, test_data = train_test_split(data, test_size = 0.2, stratify = data['class'])"
   ]
  },
  {
   "cell_type": "code",
   "execution_count": 95,
   "metadata": {},
   "outputs": [
    {
     "name": "stdout",
     "output_type": "stream",
     "text": [
      "             precision    recall  f1-score   support\n",
      "\n",
      "          D       0.78      0.55      0.65        78\n",
      "          R       0.70      0.87      0.78        94\n",
      "\n",
      "avg / total       0.74      0.73      0.72       172\n",
      "\n"
     ]
    }
   ],
   "source": [
    "# using Pipeline \n",
    "from sklearn.pipeline import Pipeline\n",
    "pipeline = Pipeline([\n",
    "    ('vectorizer', CountVectorizer(ngram_range=(1,3))),\n",
    "    ('classifier', MultinomialNB())\n",
    "])\n",
    "pipeline.fit(train_data['text'],train_data['class'])\n",
    "predicitions = pipeline.predict(test_data['text'])\n",
    "print(classification_report(test_data['class'],predicitions))\n"
   ]
  },
  {
   "cell_type": "code",
   "execution_count": 76,
   "metadata": {
    "collapsed": true
   },
   "outputs": [],
   "source": [
    "# when i compared samples of stemmed text with original text I found both of them to be similar that's why \n",
    "# I think there is no improvement in the score"
   ]
  },
  {
   "cell_type": "code",
   "execution_count": null,
   "metadata": {
    "collapsed": true
   },
   "outputs": [],
   "source": []
  }
 ],
 "metadata": {
  "kernelspec": {
   "display_name": "Python 3",
   "language": "python",
   "name": "python3"
  },
  "language_info": {
   "codemirror_mode": {
    "name": "ipython",
    "version": 3
   },
   "file_extension": ".py",
   "mimetype": "text/x-python",
   "name": "python",
   "nbconvert_exporter": "python",
   "pygments_lexer": "ipython3",
   "version": "3.6.1"
  }
 },
 "nbformat": 4,
 "nbformat_minor": 2
}
